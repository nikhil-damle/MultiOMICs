{
 "cells": [
  {
   "cell_type": "code",
   "execution_count": 1,
   "id": "67378d03-60bc-4785-b20b-5a1cd9a92019",
   "metadata": {},
   "outputs": [],
   "source": [
    "import pandas as pd\n",
    "import numpy as np\n",
    "from sklearn.impute import SimpleImputer"
   ]
  },
  {
   "cell_type": "code",
   "execution_count": 2,
   "id": "8ab7c4fa-b3e6-48f7-9913-c47135f00b6f",
   "metadata": {},
   "outputs": [],
   "source": [
    "dfCNA_ori = pd.read_csv('LIHC__genome_wide_snp_6__GeneLevelCNA.txt', sep='\\t', header=0)\n",
    "dfDNAmeth_ori = pd.read_csv('LIHC_Methylation450__SingleValue__TSS1500__Both.txt', sep='\\t', header=0)\n",
    "dfRNASeq_ori = pd.read_csv('LIHC_RNASeq__illuminahiseq_rnaseqv2__GeneExp.txt', sep='\\t', header=0)"
   ]
  },
  {
   "cell_type": "code",
   "execution_count": 3,
   "id": "8e583561-3f3e-4298-9de1-b518ba518717",
   "metadata": {},
   "outputs": [
    {
     "name": "stdout",
     "output_type": "stream",
     "text": [
      "Original shape of \n",
      "\tRNASeq data = (20530, 426) \n",
      "\tMethylation data = (20421, 431)  and\n",
      "\tCNA data = (24924, 764)\n"
     ]
    }
   ],
   "source": [
    "print('Original shape of \\n\\tRNASeq data =', dfRNASeq_ori.shape, '\\n\\tMethylation data =', dfDNAmeth_ori.shape, ' and\\n\\tCNA data =', dfCNA_ori.shape)"
   ]
  },
  {
   "cell_type": "markdown",
   "id": "037125ed-d5a6-4380-8fba-4fa6d004c558",
   "metadata": {},
   "source": [
    "#### Get rid of the non-sample columns (e.g. GeneSymbol, strand, SingleValueType etc)"
   ]
  },
  {
   "cell_type": "code",
   "execution_count": 4,
   "id": "e3d5bce0-dec7-4b91-8174-f4623367b3ab",
   "metadata": {},
   "outputs": [
    {
     "name": "stdout",
     "output_type": "stream",
     "text": [
      "New shape of \n",
      "\tRNASeq data = (20530, 424) \n",
      "\tMethylation data = (20421, 429)  and\n",
      "\tCNA data = (24924, 761)\n"
     ]
    }
   ],
   "source": [
    "dfRNASeq = dfRNASeq_ori.drop(dfRNASeq_ori.columns[[0,1]], axis=1)    # remove 'GeneSymbol', 'EntrezID'\n",
    "dfDNAmeth = dfDNAmeth_ori.drop(dfDNAmeth_ori.columns[[0,1]], axis=1) # remove 'GeneSymbol', 'SingleValueType'\n",
    "dfCNA = dfCNA_ori.drop(dfCNA_ori.columns[[0, 1, 2]], axis=1)       # remove 'GeneSymbol', 'Chromosome', 'Strand'\n",
    "print('New shape of \\n\\tRNASeq data =', dfRNASeq.shape, '\\n\\tMethylation data =', dfDNAmeth.shape, ' and\\n\\tCNA data =', dfCNA.shape)"
   ]
  },
  {
   "cell_type": "code",
   "execution_count": 5,
   "id": "a89bf435-00c6-4def-b4db-96b5b6d91d77",
   "metadata": {},
   "outputs": [],
   "source": [
    "#dfRNASeq_ori.columns[[0,1,2]]"
   ]
  },
  {
   "cell_type": "code",
   "execution_count": 6,
   "id": "b573d24a-a62f-4fe4-997c-8bd298325d63",
   "metadata": {},
   "outputs": [],
   "source": [
    "#dfDNAmeth_ori.columns[[0, 1,2]]"
   ]
  },
  {
   "cell_type": "code",
   "execution_count": 7,
   "id": "b7cb5755-7dca-4a71-bc87-7978a435f42a",
   "metadata": {},
   "outputs": [],
   "source": [
    "#dfCNA_ori.columns[[0, 1,2,3]]"
   ]
  },
  {
   "cell_type": "markdown",
   "id": "b8b8dd97-0129-4dd1-af07-4cf920f7cf89",
   "metadata": {},
   "source": [
    "#### Remove rows containing >=20% values as NA"
   ]
  },
  {
   "cell_type": "code",
   "execution_count": 8,
   "id": "4124e8a3-b705-458f-b35a-bb1ac536cbad",
   "metadata": {},
   "outputs": [],
   "source": [
    "def removeRows(df):\n",
    "    threshold = int(0.8*df.shape[1])\n",
    "    dfNonNA = df.dropna(axis=0, thresh=threshold)\n",
    "    return dfNonNA"
   ]
  },
  {
   "cell_type": "code",
   "execution_count": 9,
   "id": "af7ffe59-526a-4c0c-ad44-03f689a2e8d0",
   "metadata": {},
   "outputs": [
    {
     "name": "stdout",
     "output_type": "stream",
     "text": [
      "New shape of \n",
      "\tRNASeq data = (20530, 424) \n",
      "\tMethylation data = (18996, 429)  and\n",
      "\tCNA data = (23604, 761)\n"
     ]
    }
   ],
   "source": [
    "dfRNASeq = removeRows(dfRNASeq)\n",
    "dfDNAmeth = removeRows(dfDNAmeth)\n",
    "dfCNA = removeRows(dfCNA)\n",
    "print('New shape of \\n\\tRNASeq data =', dfRNASeq.shape, '\\n\\tMethylation data =', dfDNAmeth.shape, ' and\\n\\tCNA data =', dfCNA.shape)"
   ]
  },
  {
   "cell_type": "markdown",
   "id": "f44140d2-25eb-4f5c-b190-1e52b5b64689",
   "metadata": {},
   "source": [
    "#### Remove cols containing >=20% values as NA"
   ]
  },
  {
   "cell_type": "code",
   "execution_count": 10,
   "id": "9f8e2789-fc84-4976-b256-920c53dd8d98",
   "metadata": {},
   "outputs": [],
   "source": [
    "def removeCols(df):\n",
    "    threshold = int(0.8*df.shape[0])\n",
    "    dfNonNA = df.dropna(axis=1, thresh=threshold)\n",
    "    return dfNonNA"
   ]
  },
  {
   "cell_type": "code",
   "execution_count": 11,
   "id": "315323c3-c3e5-40b2-a820-72bf835c1eeb",
   "metadata": {},
   "outputs": [
    {
     "name": "stdout",
     "output_type": "stream",
     "text": [
      "New shape of \n",
      "\tRNASeq data = (20530, 424) \n",
      "\tMethylation data = (18996, 429)  and\n",
      "\tCNA data = (23604, 761)\n"
     ]
    }
   ],
   "source": [
    "dfRNASeq = removeCols(dfRNASeq)\n",
    "dfDNAmeth = removeCols(dfDNAmeth)\n",
    "dfCNA = removeCols(dfCNA)\n",
    "print('New shape of \\n\\tRNASeq data =', dfRNASeq.shape, '\\n\\tMethylation data =', dfDNAmeth.shape, ' and\\n\\tCNA data =', dfCNA.shape)"
   ]
  },
  {
   "cell_type": "code",
   "execution_count": 12,
   "id": "5660b8f9-1409-4c81-bbdb-842440045252",
   "metadata": {},
   "outputs": [],
   "source": [
    "#print(dfDNAmeth.iloc[:,0])"
   ]
  },
  {
   "cell_type": "markdown",
   "id": "c987e0ba-1bbb-404c-969a-f59ef77a873a",
   "metadata": {},
   "source": [
    "#### Fetch column names from the matrix"
   ]
  },
  {
   "cell_type": "code",
   "execution_count": 13,
   "id": "16b0903e-62de-4f76-b9d1-1cc1e2047ce2",
   "metadata": {},
   "outputs": [],
   "source": [
    "rnaSeqSamples = list(dfRNASeq)\n",
    "dnaMethSamples = list(dfDNAmeth)\n",
    "cnaSamples = list(dfCNA)\n",
    "#print(rnaSeqSamples)"
   ]
  },
  {
   "cell_type": "markdown",
   "id": "20fe91bc-43ae-4023-ac08-83618f9b6b3f",
   "metadata": {},
   "source": [
    "#### Fetch participant, sample and tumor type information from TCGA bar-code<br>(https://docs.gdc.cancer.gov/Encyclopedia/pages/TCGA_Barcode/)"
   ]
  },
  {
   "cell_type": "code",
   "execution_count": 14,
   "id": "bfa88264-6563-4269-94e9-14b226bc7f7e",
   "metadata": {},
   "outputs": [
    {
     "name": "stdout",
     "output_type": "stream",
     "text": [
      "#RNASeq Samples = 424 , #DNAMeth Samples = 429 , #CNA Samples = 761\n"
     ]
    }
   ],
   "source": [
    "rnaSeqID = [x[8:16] for x in rnaSeqSamples]\n",
    "methID = [x[8:16] for x in dnaMethSamples]\n",
    "cnaID = [x[8:16] for x in cnaSamples]\n",
    "print('#RNASeq Samples =', len(rnaSeqID), ', #DNAMeth Samples =', len(methID), ', #CNA Samples =', len(cnaID))"
   ]
  },
  {
   "cell_type": "code",
   "execution_count": 15,
   "id": "c8bec577-665b-494c-8870-026ddb0aa1fe",
   "metadata": {},
   "outputs": [],
   "source": [
    "#methID"
   ]
  },
  {
   "cell_type": "markdown",
   "id": "59c477a5-36ae-483e-98a6-35e9df7e72bc",
   "metadata": {},
   "source": [
    "#### Remove duplicate samples-vial combinations (henceforth referred to as samples)"
   ]
  },
  {
   "cell_type": "code",
   "execution_count": 16,
   "id": "733c45be-b7bf-4258-b1ca-cb181c999151",
   "metadata": {},
   "outputs": [
    {
     "name": "stdout",
     "output_type": "stream",
     "text": [
      "After removing duplicate samples\n",
      "#RNASeq Samples = 424 , #DNAMeth Samples = 429 , #CNA Samples = 760\n"
     ]
    }
   ],
   "source": [
    "rnaSeqID = list(set(rnaSeqID))\n",
    "methID = list(set(methID))\n",
    "cnaID = list(set(cnaID))\n",
    "print('After removing duplicate samples\\n#RNASeq Samples =', len(rnaSeqID), ', #DNAMeth Samples =', len(methID), ', #CNA Samples =', len(cnaID))"
   ]
  },
  {
   "cell_type": "markdown",
   "id": "8cc77caa-9cd8-49e9-be12-6e719ec5564d",
   "metadata": {},
   "source": [
    "#### Identify common samples"
   ]
  },
  {
   "cell_type": "code",
   "execution_count": 17,
   "id": "c0fe0d02-44a2-4239-8792-c049bcbabd01",
   "metadata": {},
   "outputs": [],
   "source": [
    "def compareLists(bigList, smallList):\n",
    "    commonList = []\n",
    "    for i in smallList:\n",
    "        for j in bigList:\n",
    "            if i == j:\n",
    "                commonList.append(bigList.index(j))\n",
    "                break\n",
    "    return commonList"
   ]
  },
  {
   "cell_type": "code",
   "execution_count": 18,
   "id": "97295929-da95-454c-81b5-b081ebe2b905",
   "metadata": {},
   "outputs": [
    {
     "name": "stdout",
     "output_type": "stream",
     "text": [
      "#commonSamples 404 \n",
      "commonSamples = ['A4NR-01A', 'A75G-01A', 'A116-01A', 'AAE7-01A', 'A82E-01A', 'AAW0-01A', 'A9FW-01A', 'A7SB-01A', 'A10X-11A', 'A5MZ-01A', 'A9H9-01A', 'A4NK-01A', '5264-01A', 'A3KG-01A', 'AAVV-01A', 'A1EC-11A', 'AACV-01A', 'A10U-01A', 'AAD2-01A', 'A7IL-01A', 'A3R2-01A', 'A26S-11A', 'AAPD-01A', 'A11C-11A', 'A4NN-01A', 'A3MA-01A', 'A9H6-01A', 'AAVU-01A', 'A4NV-01A', 'A9H3-01A', 'A2L6-11A', 'A4NJ-01A', '5258-01A', 'AAW3-01A', 'AA46-01A', 'AACX-01A', 'A8YO-01A', 'A119-01A', 'A5NQ-01A', 'A113-11A', 'A1EG-11A', 'A5KG-01A', 'A5SL-01A', 'A23B-01A', 'A1EH-01A', 'A7IE-01A', 'AACS-01A', 'A3A3-11A', 'AADN-01A', 'A9H7-01A', 'A3A2-01A', 'AAV5-01A', 'A1EA-01A', 'A3A6-01A', 'A3A1-01A', 'A8JO-01A', 'A217-01A', 'A1HT-01A', 'A5N0-01A', 'AAV0-01A', 'A75H-01A', 'A118-01A', 'A39X-01A', 'A3JL-01A', 'A9D0-01A', 'A7IK-01A', 'A3OU-01A', 'A10Z-01A', 'AADW-01A', 'A4U2-01A', 'AA44-01A', 'A7XP-01A', 'AACL-01A', 'AAV1-01A', 'A39W-11A', 'AACB-01A', 'A8LF-01A', 'A216-01A', 'A9CY-01A', 'A9D4-01A', 'A9CV-01A', '5262-01A', 'A7SF-01A', 'A9QC-01A', 'AAED-01A', 'A496-01A', 'A1EI-01A', 'A4NS-01A', 'AADM-01A', 'A3R3-01A', 'A3CG-01A', 'AA1D-01A', 'A9GX-01A', 'AA47-01A', 'AAD5-01A', 'A3CJ-01A', 'A97K-01A', 'AAEH-01A', 'AADF-01A', 'A9H2-01A', 'A6C0-01A', 'AAVQ-01A', 'AAAM-01A', 'A95S-01A', 'A10U-11A', 'AAE9-01A', 'A8TE-01A', 'A4NL-01A', 'A6M4-01A', 'AAE0-01A', 'A4NB-01A', 'A39Z-11A', 'A119-11A', '4072-01B', 'A7PY-01A', 'A115-01A', 'AACA-02A', 'A25X-01A', 'A7II-01A', 'A5NO-01A', 'A5DF-01A', 'A9D2-01A', 'AACY-01A', 'A8O5-01A', 'A73B-01A', 'AA1C-01A', 'A75V-01A', 'A7SK-01A', 'A10R-11A', 'AACP-01A', 'A3I0-01A', 'A4NI-01A', 'A9HB-01A', 'A4NH-01A', 'A2QQ-01A', 'A1EK-01A', 'A66X-01A', 'AADL-01A', 'A7K0-01A', 'A2HT-11A', 'AAD8-01A', 'A7IG-01A', 'A7IJ-01A', 'AADA-01A', 'A75I-01A', 'A9GW-01A', 'A5SM-01A', 'AAVW-01A', 'A9VH-01A', 'A86L-01A', 'A7B7-01A', 'AA0V-01A', 'AAW1-01A', 'A7SH-01A', 'A3A4-01A', 'AAD1-01A', 'A7M8-01A', 'A8TG-01A', 'A1EF-01A', 'A73A-01A', 'A8S7-01A', 'A3RK-01A', 'A11A-01A', 'A7IH-01A', 'A5UC-01A', 'A5SJ-01A', 'AAV7-01A', 'A9GS-01A', 'A520-01A', 'A10R-01A', 'A1EH-11A', 'A3A7-01A', 'A69I-01A', 'A5W4-01A', 'A7D4-01A', 'AACU-01A', 'AAE2-01A', 'AAVY-01A', 'AADK-01A', 'A3A5-01A', 'A4NF-01A', 'AAC8-01A', 'A10W-11A', 'A3CI-01A', 'AADD-01A', 'A9FS-01A', 'AAEB-01A', 'A7M7-01A', 'AAEE-01A', 'A9CE-01A', 'A26S-01A', 'A39V-11A', 'A9CZ-01A', 'AACO-01A', 'A7K8-01A', 'A7K7-01A', 'A9GU-01A', 'AAE1-01A', 'AB4B-01A', 'AAVR-01A', 'A9CF-02A', 'A9GZ-01A', 'A114-11A', 'A3MB-01A', 'A9QD-01A', 'A25U-01A', 'A1EJ-01A', 'AAD3-01A', 'AA0U-01A', 'A8TD-01A', 'AAE3-01A', 'AAD6-01A', 'AA3A-01A', 'AACG-01A', 'A113-01A', 'A3M9-01A', 'A7S9-01A', 'A118-11A', 'A3A9-01A', 'A73D-01A', 'AAUZ-01A', 'AAVX-01A', 'A4NO-01A', 'AACT-01A', 'AAD0-01A', 'A7MD-01A', 'A7MF-01A', 'A6J8-01A', 'A5RF-01A', 'AAU7-01A', 'AADR-01A', 'A9GY-01A', '4073-01B', 'AACZ-01A', 'A11D-01A', 'A10T-11A', 'AAVS-01A', 'A11D-11A', 'A7M9-01A', 'A9VG-01A', '5260-01A', 'A3KF-01A', 'A73F-01A', 'A9CG-01A', 'A25T-01A', 'AAZ8-01A', 'A7K2-01A', 'A9GT-01A', 'A2KC-01A', 'A4NQ-01A', 'AADP-01A', 'AACW-01A', 'A10W-01A', 'AACF-01A', 'A39X-11A', 'A66Y-01A', 'AACJ-01A', 'A10X-01A', 'A1ED-01A', 'A3A1-11A', 'A9CD-01A', 'A11B-01A', 'A9FU-01A', 'A3ER-01A', 'A6M5-01A', 'AAVP-01A', 'A11C-01A', 'AAE4-01A', 'A2HT-01A', 'A9H5-01A', 'A1EE-01A', 'A8HU-01A', 'A112-01A', 'A9H8-01A', 'A7XO-01A', 'A8O6-01A', 'A4NA-01A', 'A8TF-01A', 'A73G-01A', 'A5NP-01A', 'A7M6-01A', 'A39Z-01A', 'A9D1-01A', 'A4XI-01A', 'A9CF-01A', 'A5UE-01A', 'A69H-01A', 'A5SI-01A', 'A9H4-01A', 'A7PZ-01A', 'A10Q-01A', 'A6UC-01A', 'A2L6-01A', 'A1EC-01A', 'A7MC-01A', 'A3A2-11A', 'AADC-01A', 'A7ME-01A', 'A12J-11A', 'A1EL-01A', 'A2QR-01A', 'AACE-01A', 'AACH-01A', 'AADG-01A', 'A3CK-01A', 'AAEA-01A', 'A110-11A', 'A7MB-01A', 'A5UD-01A', 'A12J-01A', 'AACI-01A', 'A10T-01A', 'A1EG-01A', 'A10Q-11A', 'AACK-01A', 'AACC-01A', 'AADU-01A', 'AAEI-01A', 'A39Y-01A', 'A7PX-01A', 'AADY-01A', 'A1EB-01A', 'AAEG-01A', 'AADJ-01A', 'AAVZ-01A', 'A25Y-01A', 'A4ZQ-01A', 'A7MA-01A', 'A6G5-01A', 'A75C-01A', 'A114-01A', 'A3EP-01A', 'A11B-11A', 'AACD-01A', 'A25V-01A', 'AACA-02B', 'A3MC-01A', 'AAE6-01A', 'AAC9-01A', 'AAV2-01A', 'A2KB-01A', 'A1EB-11A', 'A1EI-11A', 'A3I1-01A', 'A9G7-01A', 'AAV4-01A', 'A110-01A', 'AACQ-01A', 'AAEK-01A', 'AADO-01A', 'A7IF-01A', 'A9H0-01A', 'AAW2-01A', 'AADV-01A', 'A2HS-01A', 'A8HV-01A', 'A39W-01A', 'A73E-01A', 'A10Y-01A', 'A627-01A', 'AAV3-01A', 'A6M6-01A', 'AADB-01A', '5261-01A', 'A9FV-01A', 'AACA-01A', 'A39V-01A', 'A116-11A', 'A10S-01A', 'A6M3-01A', 'AAV6-01A', 'A2QR-11A', 'A2KA-01A', 'A25S-01A', 'A1EE-11A', 'A216-11A', 'A4ZP-01A', 'A7M5-01A', 'A495-01A', 'A4NP-01A', 'A9GV-01A', 'A3EP-11A', 'A9HA-01A', 'A3A3-01A', 'A3A8-01A', 'A6GG-01A', 'A4ND-01A', 'AADI-01A', 'A3CH-01A', 'A9DB-01A', 'A459-01A', 'A10Z-11A', '5263-01A', 'AA8I-01A', 'A11A-11A', 'A23B-11A', 'A75E-01A', 'A10Y-11A', 'AADS-01A', 'A9H1-01A', 'A73C-01A', 'AADQ-01A', 'A25Z-01A', 'A5RG-01A']\n"
     ]
    }
   ],
   "source": [
    "commonSamples = list(set(rnaSeqID) & set(methID) & set(cnaID))\n",
    "print('#commonSamples', len(commonSamples), '\\ncommonSamples =', commonSamples)"
   ]
  },
  {
   "cell_type": "code",
   "execution_count": 19,
   "id": "5f0e2442-2a0e-4448-aa62-0310f084c313",
   "metadata": {},
   "outputs": [],
   "source": [
    "#type(cnaID)"
   ]
  },
  {
   "cell_type": "code",
   "execution_count": 20,
   "id": "75a2fb07-1776-43dd-820a-09b799a7364d",
   "metadata": {},
   "outputs": [],
   "source": [
    "commonRNASeqSamples = compareLists(rnaSeqID, commonSamples)\n",
    "commonDNAmethSamples = compareLists(methID, commonSamples)\n",
    "commonCNASamples = compareLists(cnaID, commonSamples)"
   ]
  },
  {
   "cell_type": "code",
   "execution_count": 21,
   "id": "796d67bc-2517-4226-87d8-2edc6d4dfab4",
   "metadata": {},
   "outputs": [
    {
     "name": "stdout",
     "output_type": "stream",
     "text": [
      "extracted # samples from:\n",
      "\tRNA-seq data = 404 \n",
      "\tDNAMeth data = 404 \n",
      "\tCNA data = 404\n"
     ]
    }
   ],
   "source": [
    "print('extracted # samples from:\\n\\tRNA-seq data =', len(commonRNASeqSamples),'\\n\\tDNAMeth data =', len(commonDNAmethSamples), '\\n\\tCNA data =', len(commonCNASamples))"
   ]
  },
  {
   "cell_type": "code",
   "execution_count": 22,
   "id": "843ef3eb-6303-43b9-a654-854b8192c6c4",
   "metadata": {
    "tags": []
   },
   "outputs": [],
   "source": [
    "dfRNASeq = dfRNASeq.iloc[:, commonRNASeqSamples]\n",
    "dfDNAmeth = dfDNAmeth.iloc[:, commonDNAmethSamples]\n",
    "dfCNA = dfCNA.iloc[:, commonCNASamples]"
   ]
  },
  {
   "cell_type": "code",
   "execution_count": 23,
   "id": "3206360c-a7cd-45e2-89da-f45695496542",
   "metadata": {},
   "outputs": [],
   "source": [
    "#print(list(dfDNAmeth))"
   ]
  },
  {
   "cell_type": "code",
   "execution_count": 24,
   "id": "8c98d158-1077-4051-995e-a2d307a1b7cc",
   "metadata": {},
   "outputs": [],
   "source": [
    "#dfDNAmeth.iloc[:, 0]#commonDNAmethSamples]"
   ]
  },
  {
   "cell_type": "code",
   "execution_count": 25,
   "id": "4fcbf226-d7b2-41c5-8bb6-63b0cb7ac86e",
   "metadata": {},
   "outputs": [
    {
     "name": "stdout",
     "output_type": "stream",
     "text": [
      "New shape of \n",
      "\tRNASeq data = (20530, 404) \n",
      "\tMethylation data = (18996, 404)  and\n",
      "\tCNA data = (23604, 404)\n"
     ]
    }
   ],
   "source": [
    "print('New shape of \\n\\tRNASeq data =', dfRNASeq.shape, '\\n\\tMethylation data =', dfDNAmeth.shape, ' and\\n\\tCNA data =', dfCNA.shape)"
   ]
  },
  {
   "cell_type": "markdown",
   "id": "ef1df1b5-f49a-4dc7-aa6b-a09194c72319",
   "metadata": {},
   "source": [
    "#### Remove records from RNA-seq data where combined expression values across all samples are too low.<br>\n",
    "Hence remove 1st quantile i.e. add all values from a row --> order in ascending order --> remove 1st 25% lowest values"
   ]
  },
  {
   "cell_type": "markdown",
   "id": "1fe7f861-7ac5-4e7a-b290-787830234b57",
   "metadata": {},
   "source": [
    "(Quantile: rank the vals in ascending order. Compute the rank at 25% of the total vals in the list. Round it up to the nearest higher integrer. Fetch the value corresp to that rank.)"
   ]
  },
  {
   "cell_type": "code",
   "execution_count": 26,
   "id": "675886de-02da-43c2-9ee6-3178082404e7",
   "metadata": {},
   "outputs": [
    {
     "name": "stdout",
     "output_type": "stream",
     "text": [
      "4537.887000000001\n"
     ]
    }
   ],
   "source": [
    "sum_o_rows = dfRNASeq.sum(axis=1)\n",
    "#print(type(sum_o_rows))\n",
    "print(sum_o_rows.quantile(0.25))"
   ]
  },
  {
   "cell_type": "code",
   "execution_count": 27,
   "id": "247c11c4-03f0-450f-a894-a2e461d64af4",
   "metadata": {},
   "outputs": [
    {
     "name": "stdout",
     "output_type": "stream",
     "text": [
      "New shape of \n",
      "\tRNASeq2 data = (15397, 404) \n",
      "\tMethylation data = (18996, 404)  and\n",
      "\tCNA data = (23604, 404)\n"
     ]
    }
   ],
   "source": [
    "sum_o_rows = dfRNASeq.sum(axis=1)\n",
    "dfRNASeq_indices = pd.DataFrame(sum_o_rows > sum_o_rows.quantile(0.25));\n",
    "dfRNASeq2 = dfRNASeq[dfRNASeq_indices.values]\n",
    "print('New shape of \\n\\tRNASeq2 data =', dfRNASeq2.shape, '\\n\\tMethylation data =', dfDNAmeth.shape, ' and\\n\\tCNA data =', dfCNA.shape)"
   ]
  },
  {
   "cell_type": "code",
   "execution_count": 28,
   "id": "efa31d18-4d0b-453e-b14a-756ec7a8380d",
   "metadata": {},
   "outputs": [
    {
     "name": "stdout",
     "output_type": "stream",
     "text": [
      "<class 'pandas.core.frame.DataFrame'>\n"
     ]
    }
   ],
   "source": [
    "print(type(dfRNASeq_indices))"
   ]
  },
  {
   "cell_type": "code",
   "execution_count": 29,
   "id": "3ed5e8fc-59f6-401f-a05f-3fef052388a2",
   "metadata": {},
   "outputs": [
    {
     "name": "stdout",
     "output_type": "stream",
     "text": [
      "<class 'numpy.ndarray'>\n"
     ]
    }
   ],
   "source": [
    "print(type(dfRNASeq_indices.values))"
   ]
  },
  {
   "cell_type": "markdown",
   "id": "0de8ff78-47f9-4a81-8e1d-d06317ee59fb",
   "metadata": {},
   "source": [
    "#### Impute missing values w avg of that col => avg of values for all genes in that sample are taken"
   ]
  },
  {
   "cell_type": "code",
   "execution_count": 30,
   "id": "35d01e7f-4477-4e75-ad80-fdf70aff9bd1",
   "metadata": {},
   "outputs": [],
   "source": [
    "imputer = SimpleImputer(missing_values = np.nan, strategy=\"mean\")\n",
    "dfDNAmeth_imputed=imputer.fit_transform(dfDNAmeth)\n",
    "dfRNASeq2_imputed=imputer.fit_transform(dfRNASeq2)\n",
    "dfCNA_imputed=imputer.fit_transform(dfCNA)"
   ]
  },
  {
   "cell_type": "code",
   "execution_count": 31,
   "id": "cc27a7ee-f4a4-472d-bf75-8c557646e17f",
   "metadata": {},
   "outputs": [
    {
     "name": "stdout",
     "output_type": "stream",
     "text": [
      "New shape of \n",
      "\\dfRNASeq2_imputed data = (15397, 404) \n",
      "\tMethylation data = (18996, 404)  and\n",
      "\tCNA data = (23604, 404)\n"
     ]
    }
   ],
   "source": [
    "print('New shape of \\n\\dfRNASeq2_imputed data =', dfRNASeq2_imputed.shape, '\\n\\tMethylation data =', dfDNAmeth_imputed.shape, ' and\\n\\tCNA data =', dfCNA_imputed.shape)"
   ]
  },
  {
   "cell_type": "markdown",
   "id": "ecf01293-0c81-4fbb-a8d5-df29287c56a6",
   "metadata": {},
   "source": [
    "#### Transpose the matrix so that samples are aligned against rows --> labeling of samples is possible.<br>Imputing before transpose is very important. If imputing performed after transpose, the missing values for a sample and a gene will be avg of all samples for that gene which is wrong."
   ]
  },
  {
   "cell_type": "code",
   "execution_count": 32,
   "id": "7ca10fc4-bc47-4bbc-86d5-26596aaeb297",
   "metadata": {},
   "outputs": [],
   "source": [
    "dfDNAmeth_transposed = dfDNAmeth_imputed.transpose()\n",
    "dfRNASeq2_transposed = dfRNASeq2_imputed.transpose()\n",
    "dfCNA_transposed = dfCNA_imputed.transpose()"
   ]
  },
  {
   "cell_type": "code",
   "execution_count": 33,
   "id": "bfe24eeb-83ed-4961-9afc-c2a7152b4d01",
   "metadata": {},
   "outputs": [
    {
     "name": "stdout",
     "output_type": "stream",
     "text": [
      "New shape of \n",
      "\\dfRNASeq2_transposed data = (404, 15397) \n",
      "\tMethylation data = (404, 18996)  and\n",
      "\tCNA data = (404, 23604)\n"
     ]
    }
   ],
   "source": [
    "print('New shape of \\n\\dfRNASeq2_transposed data =', dfRNASeq2_transposed.shape, '\\n\\tMethylation data =', dfDNAmeth_transposed.shape, ' and\\n\\tCNA data =', dfCNA_transposed.shape)"
   ]
  },
  {
   "cell_type": "code",
   "execution_count": 34,
   "id": "25348d16-2757-40f5-b582-b23f74ea7b80",
   "metadata": {},
   "outputs": [],
   "source": [
    "def normalizeVals(df):\n",
    "    rows,cols = df.shape;print(df.shape)\n",
    "    mins = np.zeros(shape=cols, dtype=np.float32)\n",
    "    maxs = np.zeros(shape=cols, dtype=np.float32)\n",
    "    \n",
    "    for j in range(cols):\n",
    "        mins[j] = np.min(df[:, j])\n",
    "        maxs[j] = np.max(df[:, j])\n",
    "        \n",
    "    normalized_df = np.copy(df)\n",
    "    for i in range(rows):\n",
    "        for j in range(cols):\n",
    "            normalized_df[i,j] = (df[i,j] - mins[j]) / (maxs[j] - mins[j])\n",
    "    return normalized_df"
   ]
  },
  {
   "cell_type": "code",
   "execution_count": 35,
   "id": "542527c8-0261-40fb-8d49-b64d7f48329a",
   "metadata": {},
   "outputs": [
    {
     "name": "stdout",
     "output_type": "stream",
     "text": [
      "(404, 18996)\n",
      "(404, 15397)\n",
      "(404, 23604)\n"
     ]
    }
   ],
   "source": [
    "normDNAmeth = normalizeVals(dfDNAmeth_transposed)\n",
    "normRNASeq = normalizeVals(dfRNASeq2_transposed)\n",
    "normCNA = normalizeVals(dfCNA_transposed)"
   ]
  },
  {
   "cell_type": "markdown",
   "id": "106ae773-7a35-4675-92ef-097e8a7fc6ea",
   "metadata": {},
   "source": [
    "#### Export data"
   ]
  },
  {
   "cell_type": "code",
   "execution_count": 36,
   "id": "dc537467-1660-4196-a0d3-f099442adff4",
   "metadata": {},
   "outputs": [],
   "source": [
    "df_normDNAmeth = pd.DataFrame(normDNAmeth)\n",
    "df_normDNAmeth.to_csv('normDNAmeth.csv', index=False)\n",
    "\n",
    "df_normRNASeq = pd.DataFrame(normRNASeq)\n",
    "df_normRNASeq.to_csv('normRNASeq.csv', index=False)\n",
    "\n",
    "df_normCNA = pd.DataFrame(normCNA)\n",
    "df_normCNA.to_csv('normCNA.csv', index=False)"
   ]
  }
 ],
 "metadata": {
  "kernelspec": {
   "display_name": "Python 3 (ipykernel)",
   "language": "python",
   "name": "python3"
  },
  "language_info": {
   "codemirror_mode": {
    "name": "ipython",
    "version": 3
   },
   "file_extension": ".py",
   "mimetype": "text/x-python",
   "name": "python",
   "nbconvert_exporter": "python",
   "pygments_lexer": "ipython3",
   "version": "3.10.2"
  }
 },
 "nbformat": 4,
 "nbformat_minor": 5
}

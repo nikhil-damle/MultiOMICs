{
 "cells": [
  {
   "cell_type": "code",
   "execution_count": 5,
   "id": "947cd113-4d00-401f-b179-7ad78af092d6",
   "metadata": {},
   "outputs": [
    {
     "name": "stdout",
     "output_type": "stream",
     "text": [
      "Requirement already satisfied: biopython in c:\\users\\nikhil\\desktop\\python3.10.2_virtualenv\\lib\\site-packages (1.83)Note: you may need to restart the kernel to use updated packages.\n",
      "\n",
      "Requirement already satisfied: numpy in c:\\softwares\\python3.10.2\\lib\\site-packages (from biopython) (1.22.3)\n"
     ]
    }
   ],
   "source": [
    "pip install biopython"
   ]
  },
  {
   "cell_type": "code",
   "execution_count": null,
   "id": "e8a40435-600e-49fa-bf5c-24c1fe369259",
   "metadata": {},
   "outputs": [],
   "source": [
    "pip install scikit-learn"
   ]
  },
  {
   "cell_type": "code",
   "execution_count": 1,
   "id": "5c9189ae-6a64-4812-9217-b52e74bdd397",
   "metadata": {},
   "outputs": [
    {
     "name": "stdout",
     "output_type": "stream",
     "text": [
      "Requirement already satisfied: pip in c:\\users\\nikhil\\desktop\\python3.10.2_virtualenv\\lib\\site-packages (24.0)\n",
      "Collecting pip\n",
      "  Downloading pip-25.0.1-py3-none-any.whl.metadata (3.7 kB)\n",
      "Downloading pip-25.0.1-py3-none-any.whl (1.8 MB)\n",
      "   ---------------------------------------- 1.8/1.8 MB 2.9 MB/s eta 0:00:00\n",
      "Installing collected packages: pip\n",
      "  Attempting uninstall: pip\n",
      "    Found existing installation: pip 24.0\n",
      "    Uninstalling pip-24.0:\n",
      "      Successfully uninstalled pip-24.0\n",
      "Successfully installed pip-25.0.1\n",
      "Note: you may need to restart the kernel to use updated packages.\n"
     ]
    }
   ],
   "source": [
    "pip install --upgrade pip"
   ]
  },
  {
   "cell_type": "code",
   "execution_count": 3,
   "id": "62ad39b7-2628-4950-acab-a1d65b2271cf",
   "metadata": {},
   "outputs": [],
   "source": [
    "import gzip\n",
    "from Bio import SeqIO\n",
    "import re"
   ]
  },
  {
   "cell_type": "code",
   "execution_count": 4,
   "id": "d055d94f-67ce-4bef-9a10-9c7a66036d08",
   "metadata": {},
   "outputs": [
    {
     "name": "stdout",
     "output_type": "stream",
     "text": [
      "ID: chr1_70_G\n",
      "Name: chr1_70_G\n",
      "Description: chr1_70_G\n",
      "Number of features: 0\n",
      "Seq('GCCCCCCCGCCCCGCCCTATTGTTTGTGCTCTGTCCTTCGCCCCCGCGGAGCGA...CCC')\n",
      ">chr1_70_TG\n",
      "\n",
      "GCCCCCCCGCCCCGCCCTATTGTTTGTGCGCTGTCCTTCGCCCCCGCGGAGCGACGGCGCCC\n",
      "\n",
      "ID: chr1_74_C\n",
      "Name: chr1_74_C\n",
      "Description: chr1_74_C\n",
      "Number of features: 0\n",
      "Seq('GCCGCGGGAGAGCGGCCACAATGGGATAGAGGACAACGTTCCCGCGACACAGAC...GTC')\n",
      ">chr1_74_AC\n",
      "\n",
      "GCCGCGGGAGAGCGGCCACAATGGGATAGCGGACAACGTTCCCGCGACACAGACGCGACGTC\n",
      "\n",
      "ID: chr1_82_G\n",
      "Name: chr1_82_G\n",
      "Description: chr1_82_G\n",
      "Number of features: 0\n",
      "Seq('CGGAGGGTCCACTTCCCAGCGAAGAAGGCTCGTCGCCGGGCCCCCGGCCCGAGG...ACT')\n",
      ">chr1_82_TG\n",
      "\n",
      "CGGAGGGTCCACTTCCCAGCGAAGAAGGCGCGTCGCCGGGCCCCCGGCCCGAGGGGCAAACT\n",
      "\n",
      "ID: chr1_94_G\n",
      "Name: chr1_94_G\n",
      "Description: chr1_94_G\n",
      "Number of features: 0\n",
      "Seq('GGAGCCGGATCGCGCGGCCGGGGGAGGACTAACGATTACTCTACGGACCTCAGT...TAG')\n",
      ">chr1_94_TG\n",
      "\n",
      "GGAGCCGGATCGCGCGGCCGGGGGAGGACGAACGATTACTCTACGGACCTCAGTAGGACTAG\n",
      "\n",
      "ID: chr1_106_G\n",
      "Name: chr1_106_G\n",
      "Description: chr1_106_G\n",
      "Number of features: 0\n",
      "Seq('CAGTCCACAGCGTGTGTTCCCCAATTCCGTTAGCCCGTTACGGTTCCGTTTGGG...GCG')\n",
      ">chr1_106_TG\n",
      "\n",
      "CAGTCCACAGCGTGTGTTCCCCAATTCCGGTAGCCCGTTACGGTTCCGTTTGGGCTAACGCG\n",
      "\n",
      "ID: chr1_134_C\n",
      "Name: chr1_134_C\n",
      "Description: chr1_134_C\n",
      "Number of features: 0\n",
      "Seq('ACGAGGCCCGCGGTGTCGTAAAGCACCACAGTCAGTAGCCATGCAAAGTAAGGG...CCA')\n",
      ">chr1_134_AC\n",
      "\n",
      "ACGAGGCCCGCGGTGTCGTAAAGCACCACCGTCAGTAGCCATGCAAAGTAAGGGGACGGCCA\n",
      "\n",
      "ID: chr1_158_C\n",
      "Name: chr1_158_C\n",
      "Description: chr1_158_C\n",
      "Number of features: 0\n",
      "Seq('CGAGGCGGGGCGTCGCACCCTGCTCATGCACCCACGGCCTATGCAGTACCGCTT...TGC')\n",
      ">chr1_158_AC\n",
      "\n",
      "CGAGGCGGGGCGTCGCACCCTGCTCATGCCCCCACGGCCTATGCAGTACCGCTTACGCCTGC\n",
      "\n",
      "ID: chr1_170_C\n",
      "Name: chr1_170_C\n",
      "Description: chr1_170_C\n",
      "Number of features: 0\n",
      "Seq('TGTGATAACCGAACTTCGCCACTCCGGCCAGATGGATGGGGCCGGGCGCTGACG...CAA')\n",
      ">chr1_170_AC\n",
      "\n",
      "TGTGATAACCGAACTTCGCCACTCCGGCCCGATGGATGGGGCCGGGCGCTGACGGTTGCCAA\n",
      "\n",
      "ID: chr1_182_C\n",
      "Name: chr1_182_C\n",
      "Description: chr1_182_C\n",
      "Number of features: 0\n",
      "Seq('ATAGAGGGAAGGTGCAGTACGATTCTGGCACGCACGCGACATATAGCGTCCTCG...CTC')\n",
      ">chr1_182_AC\n",
      "\n",
      "ATAGAGGGAAGGTGCAGTACGATTCTGGCCCGCACGCGACATATAGCGTCCTCGATAGTCTC\n",
      "\n",
      "ID: chr1_226_T\n",
      "Name: chr1_226_T\n",
      "Description: chr1_226_T\n",
      "Number of features: 0\n",
      "Seq('AACGTCTCGGGGGACCCAAAGTCTGCAGCACGCTCCTCTTAAGGGTTGTAAGCA...AGG')\n",
      ">chr1_226_AT\n",
      "\n",
      "AACGTCTCGGGGGACCCAAAGTCTGCAGCTCGCTCCTCTTAAGGGTTGTAAGCAGACGAAGG\n",
      "\n"
     ]
    }
   ],
   "source": [
    "counter=0\n",
    "out = open('output.txt', 'a')\n",
    "with gzip.open('ngs.fa.gz', 'rt') as handle:\n",
    "    for record in SeqIO.parse(handle, 'fasta'):\n",
    "        counter=counter+1\n",
    "        if counter<11 :\n",
    "            print(record)#if len(record.seq)<100:\n",
    "            new_nt = record.name[-1]\n",
    "            seq = str(record.seq)\n",
    "            original_nt = seq[29]\n",
    "            new_header = '>'+record.name[0:-1]+original_nt+new_nt+'\\n'\n",
    "            print(new_header)\n",
    "            out.write(new_header);\n",
    "            seq_list = list(seq)\n",
    "            seq_list[29] = new_nt\n",
    "            new_seq = \"\".join(seq_list) + '\\n';print(new_seq)\n",
    "            out.write(new_seq)\n",
    "        else:\n",
    "            break\n",
    "out.close()"
   ]
  },
  {
   "cell_type": "code",
   "execution_count": null,
   "id": "a9d0d655-a270-408a-9e25-2cfb19f13ec1",
   "metadata": {},
   "outputs": [],
   "source": []
  },
  {
   "cell_type": "code",
   "execution_count": null,
   "id": "62680f65-95b9-4e28-900e-53692ff02611",
   "metadata": {},
   "outputs": [],
   "source": []
  }
 ],
 "metadata": {
  "kernelspec": {
   "display_name": "Python 3 (ipykernel)",
   "language": "python",
   "name": "python3"
  },
  "language_info": {
   "codemirror_mode": {
    "name": "ipython",
    "version": 3
   },
   "file_extension": ".py",
   "mimetype": "text/x-python",
   "name": "python",
   "nbconvert_exporter": "python",
   "pygments_lexer": "ipython3",
   "version": "3.10.2"
  }
 },
 "nbformat": 4,
 "nbformat_minor": 5
}
